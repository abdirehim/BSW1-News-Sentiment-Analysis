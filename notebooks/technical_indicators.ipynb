{
 "cells": [
  {
   "cell_type": "code",
   "execution_count": 1,
   "id": "a2ddea86",
   "metadata": {},
   "outputs": [
    {
     "ename": "ModuleNotFoundError",
     "evalue": "No module named 'src'",
     "output_type": "error",
     "traceback": [
      "\u001b[31m---------------------------------------------------------------------------\u001b[39m",
      "\u001b[31mModuleNotFoundError\u001b[39m                       Traceback (most recent call last)",
      "\u001b[36mCell\u001b[39m\u001b[36m \u001b[39m\u001b[32mIn[1]\u001b[39m\u001b[32m, line 1\u001b[39m\n\u001b[32m----> \u001b[39m\u001b[32m1\u001b[39m \u001b[38;5;28;01mfrom\u001b[39;00m\u001b[38;5;250m \u001b[39m\u001b[34;01msrc\u001b[39;00m\u001b[34;01m.\u001b[39;00m\u001b[34;01mindicators\u001b[39;00m\u001b[38;5;250m \u001b[39m\u001b[38;5;28;01mimport\u001b[39;00m apply_talib_indicators\n\u001b[32m      3\u001b[39m \u001b[38;5;66;03m# Load stock data (e.g. AAPL)\u001b[39;00m\n\u001b[32m      4\u001b[39m \u001b[38;5;28;01mimport\u001b[39;00m\u001b[38;5;250m \u001b[39m\u001b[34;01myfinance\u001b[39;00m\u001b[38;5;250m \u001b[39m\u001b[38;5;28;01mas\u001b[39;00m\u001b[38;5;250m \u001b[39m\u001b[34;01myf\u001b[39;00m\n",
      "\u001b[31mModuleNotFoundError\u001b[39m: No module named 'src'"
     ]
    }
   ],
   "source": [
    "from src.indicators import apply_talib_indicators\n",
    "\n",
    "# Load stock data (e.g. AAPL)\n",
    "import yfinance as yf\n",
    "df = yf.download(\"AAPL\", start=\"2022-01-01\", end=\"2023-01-01\")\n",
    "\n",
    "# Apply indicators\n",
    "df = apply_talib_indicators(df)\n",
    "\n",
    "# Plot example\n",
    "df[['Close', 'MA20']].plot(figsize=(12, 4), title='Close Price vs MA20')\n"
   ]
  },
  {
   "cell_type": "markdown",
   "id": "f16421c7",
   "metadata": {},
   "source": [
    "Technical Indicator Analysis with TA-Lib\n",
    "🎯 Objective:\n",
    "Use TA-Lib to compute technical indicators (MA, RSI, MACD) on stock price data. The outcome should be:\n",
    "\n",
    "Clean modular code in src/indicators.py\n",
    "\n",
    "A notebook (notebooks/technical_indicators.ipynb) for plotting and exploration\n",
    "\n",
    "Ready for integration with sentiment in Task 3"
   ]
  },
  {
   "cell_type": "code",
   "execution_count": 2,
   "id": "a634e1e8",
   "metadata": {},
   "outputs": [
    {
     "name": "stdout",
     "output_type": "stream",
     "text": [
      "YF.download() has changed argument auto_adjust default to True\n"
     ]
    },
    {
     "name": "stderr",
     "output_type": "stream",
     "text": [
      "[*********************100%***********************]  1 of 1 completed\n"
     ]
    },
    {
     "ename": "TypeError",
     "evalue": "Argument 'real' has incorrect type (expected numpy.ndarray, got DataFrame)",
     "output_type": "error",
     "traceback": [
      "\u001b[31m---------------------------------------------------------------------------\u001b[39m",
      "\u001b[31mTypeError\u001b[39m                                 Traceback (most recent call last)",
      "\u001b[36mCell\u001b[39m\u001b[36m \u001b[39m\u001b[32mIn[2]\u001b[39m\u001b[32m, line 29\u001b[39m\n\u001b[32m     24\u001b[39m df.head()\n\u001b[32m     25\u001b[39m \u001b[38;5;66;03m# 🧠 Apply Indicators\u001b[39;00m\n\u001b[32m     26\u001b[39m \u001b[38;5;66;03m# python\u001b[39;00m\n\u001b[32m     27\u001b[39m \u001b[38;5;66;03m# Copy\u001b[39;00m\n\u001b[32m     28\u001b[39m \u001b[38;5;66;03m# Edit\u001b[39;00m\n\u001b[32m---> \u001b[39m\u001b[32m29\u001b[39m df = \u001b[43mapply_all_indicators\u001b[49m\u001b[43m(\u001b[49m\u001b[43mdf\u001b[49m\u001b[43m)\u001b[49m\n\u001b[32m     30\u001b[39m df.tail()\n\u001b[32m     31\u001b[39m \u001b[38;5;66;03m# ✅ Step 3: Visualize the Indicators\u001b[39;00m\n\u001b[32m     32\u001b[39m \u001b[38;5;66;03m# 📉 Close Price + Moving Average (MA20)\u001b[39;00m\n\u001b[32m     33\u001b[39m \u001b[38;5;66;03m# python\u001b[39;00m\n\u001b[32m     34\u001b[39m \u001b[38;5;66;03m# Copy\u001b[39;00m\n\u001b[32m     35\u001b[39m \u001b[38;5;66;03m# Edit\u001b[39;00m\n",
      "\u001b[36mFile \u001b[39m\u001b[32mc:\\Users\\Cyber Defense\\Desktop\\week1\\BSW1-News-Sentiment-Analysis\\notebooks\\..\\src\\indicators.py:34\u001b[39m, in \u001b[36mapply_all_indicators\u001b[39m\u001b[34m(df)\u001b[39m\n\u001b[32m     29\u001b[39m \u001b[38;5;28;01mdef\u001b[39;00m\u001b[38;5;250m \u001b[39m\u001b[34mapply_all_indicators\u001b[39m(df: pd.DataFrame) -> pd.DataFrame:\n\u001b[32m     30\u001b[39m \u001b[38;5;250m    \u001b[39m\u001b[33;03m\"\"\"\u001b[39;00m\n\u001b[32m     31\u001b[39m \u001b[33;03m    Apply all relevant indicators to the stock price DataFrame.\u001b[39;00m\n\u001b[32m     32\u001b[39m \u001b[33;03m    Returns the DataFrame with additional columns.\u001b[39;00m\n\u001b[32m     33\u001b[39m \u001b[33;03m    \"\"\"\u001b[39;00m\n\u001b[32m---> \u001b[39m\u001b[32m34\u001b[39m     df[\u001b[33m'\u001b[39m\u001b[33mMA20\u001b[39m\u001b[33m'\u001b[39m] = \u001b[43mapply_moving_average\u001b[49m\u001b[43m(\u001b[49m\u001b[43mdf\u001b[49m\u001b[43m)\u001b[49m\n\u001b[32m     35\u001b[39m     df[\u001b[33m'\u001b[39m\u001b[33mRSI14\u001b[39m\u001b[33m'\u001b[39m] = apply_rsi(df)\n\u001b[32m     36\u001b[39m     macd_df = apply_macd(df)\n",
      "\u001b[36mFile \u001b[39m\u001b[32mc:\\Users\\Cyber Defense\\Desktop\\week1\\BSW1-News-Sentiment-Analysis\\notebooks\\..\\src\\indicators.py:10\u001b[39m, in \u001b[36mapply_moving_average\u001b[39m\u001b[34m(df, period)\u001b[39m\n\u001b[32m      6\u001b[39m \u001b[38;5;28;01mdef\u001b[39;00m\u001b[38;5;250m \u001b[39m\u001b[34mapply_moving_average\u001b[39m(df: pd.DataFrame, period: \u001b[38;5;28mint\u001b[39m = \u001b[32m20\u001b[39m) -> pd.Series:\n\u001b[32m      7\u001b[39m \u001b[38;5;250m    \u001b[39m\u001b[33;03m\"\"\"\u001b[39;00m\n\u001b[32m      8\u001b[39m \u001b[33;03m    Calculate Moving Average (SMA) using TA-Lib.\u001b[39;00m\n\u001b[32m      9\u001b[39m \u001b[33;03m    \"\"\"\u001b[39;00m\n\u001b[32m---> \u001b[39m\u001b[32m10\u001b[39m     \u001b[38;5;28;01mreturn\u001b[39;00m \u001b[43mtalib\u001b[49m\u001b[43m.\u001b[49m\u001b[43mSMA\u001b[49m\u001b[43m(\u001b[49m\u001b[43mdf\u001b[49m\u001b[43m[\u001b[49m\u001b[33;43m'\u001b[39;49m\u001b[33;43mClose\u001b[39;49m\u001b[33;43m'\u001b[39;49m\u001b[43m]\u001b[49m\u001b[43m,\u001b[49m\u001b[43m \u001b[49m\u001b[43mtimeperiod\u001b[49m\u001b[43m=\u001b[49m\u001b[43mperiod\u001b[49m\u001b[43m)\u001b[49m\n",
      "\u001b[36mFile \u001b[39m\u001b[32mc:\\Users\\Cyber Defense\\Desktop\\week1\\BSW1-News-Sentiment-Analysis\\venv\\Lib\\site-packages\\talib\\__init__.py:80\u001b[39m, in \u001b[36m_wrapper.<locals>.wrapper\u001b[39m\u001b[34m(*args, **kwds)\u001b[39m\n\u001b[32m     77\u001b[39m     _args = args\n\u001b[32m     78\u001b[39m     _kwds = kwds\n\u001b[32m---> \u001b[39m\u001b[32m80\u001b[39m result = \u001b[43mfunc\u001b[49m\u001b[43m(\u001b[49m\u001b[43m*\u001b[49m\u001b[43m_args\u001b[49m\u001b[43m,\u001b[49m\u001b[43m \u001b[49m\u001b[43m*\u001b[49m\u001b[43m*\u001b[49m\u001b[43m_kwds\u001b[49m\u001b[43m)\u001b[49m\n\u001b[32m     82\u001b[39m \u001b[38;5;66;03m# check to see if we got a streaming result\u001b[39;00m\n\u001b[32m     83\u001b[39m first_result = result[\u001b[32m0\u001b[39m] \u001b[38;5;28;01mif\u001b[39;00m \u001b[38;5;28misinstance\u001b[39m(result, \u001b[38;5;28mtuple\u001b[39m) \u001b[38;5;28;01melse\u001b[39;00m result\n",
      "\u001b[31mTypeError\u001b[39m: Argument 'real' has incorrect type (expected numpy.ndarray, got DataFrame)"
     ]
    }
   ],
   "source": [
    "# Build a Modular Analysis Notebook\n",
    "# In notebooks/technical_indicators.ipynb:\n",
    "\n",
    "# 📦 Setup Imports and Load Stock Data\n",
    "# python\n",
    "# Copy\n",
    "# Edit\n",
    "import yfinance as yf\n",
    "import matplotlib.pyplot as plt\n",
    "import seaborn as sns\n",
    "import pandas as pd\n",
    "from pathlib import Path\n",
    "import sys\n",
    "\n",
    "# Import from src/\n",
    "sys.path.append(str(Path(\"..\")))\n",
    "from src.indicators import apply_all_indicators\n",
    "# 📈 Download Stock Data\n",
    "# python\n",
    "# Copy\n",
    "# Edit\n",
    "# Example: AAPL\n",
    "df = yf.download(\"AAPL\", start=\"2022-01-01\", end=\"2023-01-01\")\n",
    "df.head()\n",
    "# 🧠 Apply Indicators\n",
    "# python\n",
    "# Copy\n",
    "# Edit\n",
    "df = apply_all_indicators(df)\n",
    "df.tail()\n",
    "# ✅ Step 3: Visualize the Indicators\n",
    "# 📉 Close Price + Moving Average (MA20)\n",
    "# python\n",
    "# Copy\n",
    "# Edit\n",
    "plt.figure(figsize=(12, 5))\n",
    "plt.plot(df['Close'], label='Close Price')\n",
    "plt.plot(df['MA20'], label='MA20', linestyle='--')\n",
    "plt.title(\"Close Price vs MA20\")\n",
    "plt.legend()\n",
    "plt.grid(True)\n",
    "plt.show()\n",
    "# 📊 RSI Plot\n",
    "# python\n",
    "# Copy\n",
    "# Edit\n",
    "plt.figure(figsize=(10, 4))\n",
    "plt.plot(df['RSI14'], label='RSI14', color='purple')\n",
    "plt.axhline(70, color='red', linestyle='--', label='Overbought')\n",
    "plt.axhline(30, color='green', linestyle='--', label='Oversold')\n",
    "plt.title(\"RSI (14-day)\")\n",
    "plt.legend()\n",
    "plt.grid(True)\n",
    "plt.show()\n",
    "# 📉 MACD & Signal\n",
    "# python\n",
    "# Copy\n",
    "# Edit\n",
    "plt.figure(figsize=(10, 4))\n",
    "plt.plot(df['MACD'], label='MACD', color='blue')\n",
    "plt.plot(df['MACD_signal'], label='Signal Line', color='orange')\n",
    "plt.bar(df.index, df['MACD_hist'], color='grey', alpha=0.3, label='MACD Hist')\n",
    "plt.title(\"MACD Indicator\")\n",
    "plt.legend()\n",
    "plt.grid(True)\n",
    "plt.show()\n"
   ]
  }
 ],
 "metadata": {
  "kernelspec": {
   "display_name": "venv",
   "language": "python",
   "name": "python3"
  },
  "language_info": {
   "codemirror_mode": {
    "name": "ipython",
    "version": 3
   },
   "file_extension": ".py",
   "mimetype": "text/x-python",
   "name": "python",
   "nbconvert_exporter": "python",
   "pygments_lexer": "ipython3",
   "version": "3.12.8"
  }
 },
 "nbformat": 4,
 "nbformat_minor": 5
}
